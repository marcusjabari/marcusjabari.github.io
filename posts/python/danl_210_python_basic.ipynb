{
  "cells": [
    {
      "cell_type": "markdown",
      "id": "99a2c4ce",
      "metadata": {
        "id": "99a2c4ce"
      },
      "source": [
        "---\n",
        "title: The Basics of Python!\n",
        "author: Marcus Lewis\n",
        "date: 2025-02-14\n",
        "categories: [python, programming, data] # tags for a blog post (e.g., python)\n",
        "image: \"py.jpeg\"\n",
        "\n",
        "toc: true\n",
        "---"
      ]
    },
    {
      "cell_type": "markdown",
      "id": "d888a05d",
      "metadata": {
        "id": "d888a05d"
      },
      "source": [
        "# Introduction to Python"
      ]
    },
    {
      "cell_type": "markdown",
      "id": "4ced8e71",
      "metadata": {
        "id": "4ced8e71"
      },
      "source": [
        "## What is Python?"
      ]
    },
    {
      "cell_type": "markdown",
      "id": "H9PipRWtEsfO",
      "metadata": {
        "id": "H9PipRWtEsfO"
      },
      "source": [
        "Python is a high-level, interpreted programming language. This is a simple Python code:"
      ]
    },
    {
      "cell_type": "code",
      "execution_count": 1,
      "id": "834bc383",
      "metadata": {
        "id": "834bc383",
        "colab": {
          "base_uri": "https://localhost:8080/"
        },
        "outputId": "2063e943-ce87-4e4d-b304-f4484916fc5b"
      },
      "outputs": [
        {
          "output_type": "stream",
          "name": "stdout",
          "text": [
            "Hello, World!\n"
          ]
        }
      ],
      "source": [
        "print('Hello, World!')"
      ]
    },
    {
      "cell_type": "markdown",
      "id": "39f9fb03",
      "metadata": {
        "id": "39f9fb03"
      },
      "source": [
        "## Variables and Data Types"
      ]
    },
    {
      "cell_type": "markdown",
      "id": "ld1HKQ0XEvx3",
      "metadata": {
        "id": "ld1HKQ0XEvx3"
      },
      "source": [
        "In Python, variables can store data of different types without explicitly declaring the type.\n",
        "\n",
        "For example:"
      ]
    },
    {
      "cell_type": "code",
      "execution_count": 2,
      "id": "e6744d1e",
      "metadata": {
        "colab": {
          "base_uri": "https://localhost:8080/"
        },
        "id": "e6744d1e",
        "outputId": "b10f9420-06eb-4840-e130-43eb9b8c779d"
      },
      "outputs": [
        {
          "output_type": "execute_result",
          "data": {
            "text/plain": [
              "10.5"
            ]
          },
          "metadata": {},
          "execution_count": 2
        }
      ],
      "source": [
        "integer_variable = 10\n",
        "string_variable = 'Hello'\n",
        "float_variable = 10.5\n",
        "\n",
        "float_variable"
      ]
    },
    {
      "cell_type": "markdown",
      "id": "d01ba669",
      "metadata": {
        "id": "d01ba669"
      },
      "source": [
        "## Control Structures"
      ]
    },
    {
      "cell_type": "markdown",
      "id": "wMeC8exAE2Bv",
      "metadata": {
        "id": "wMeC8exAE2Bv"
      },
      "source": [
        "Python supports the usual logical conditions from mathematics:"
      ]
    },
    {
      "cell_type": "code",
      "execution_count": 3,
      "id": "f74e2029",
      "metadata": {
        "id": "f74e2029"
      },
      "outputs": [],
      "source": [
        "# Equals: a == b\n",
        "# Not Equals: a != b\n",
        "# Less than: a < b\n",
        "# Less than or equal to: a <= b\n",
        "# Greater than: a > b\n",
        "# Greater than or equal to: a >= b"
      ]
    },
    {
      "cell_type": "markdown",
      "id": "T0RPCSNhE88q",
      "metadata": {
        "id": "T0RPCSNhE88q"
      },
      "source": [
        "These conditions can be used in several ways, most commonly in 'if statements' and loops."
      ]
    },
    {
      "cell_type": "code",
      "execution_count": 4,
      "id": "WqMXB9zXE6rB",
      "metadata": {
        "id": "WqMXB9zXE6rB",
        "colab": {
          "base_uri": "https://localhost:8080/"
        },
        "outputId": "b6653c20-fec0-4016-9ebb-cdb286c63b77"
      },
      "outputs": [
        {
          "output_type": "stream",
          "name": "stdout",
          "text": [
            "Five is greater than two!\n"
          ]
        }
      ],
      "source": [
        "# if statement:\n",
        "if 5 > 2:\n",
        "    print('Five is greater than two!')"
      ]
    },
    {
      "cell_type": "markdown",
      "id": "d4d8f434",
      "metadata": {
        "id": "d4d8f434"
      },
      "source": [
        "## Functions"
      ]
    },
    {
      "cell_type": "markdown",
      "id": "_c3f-aluFEJH",
      "metadata": {
        "id": "_c3f-aluFEJH"
      },
      "source": [
        "A function is a block of code which only runs when it is called.\n",
        "\n",
        "You can pass data, known as parameters, into a function.\n",
        "\n",
        "A function can return data as a result.\n",
        "\n"
      ]
    },
    {
      "cell_type": "code",
      "execution_count": 5,
      "id": "311db165",
      "metadata": {
        "id": "311db165",
        "colab": {
          "base_uri": "https://localhost:8080/"
        },
        "outputId": "2bef9126-358c-4e58-e169-f6a9209941db"
      },
      "outputs": [
        {
          "output_type": "stream",
          "name": "stdout",
          "text": [
            "Hello from a function\n"
          ]
        }
      ],
      "source": [
        "# Defining a function:\n",
        "def my_function():\n",
        "    print('Hello from a function')\n",
        "\n",
        "# Calling a function:\n",
        "my_function()"
      ]
    },
    {
      "cell_type": "markdown",
      "id": "e759a298",
      "metadata": {
        "id": "e759a298"
      },
      "source": [
        "## Lists and Dictionaries"
      ]
    },
    {
      "cell_type": "markdown",
      "id": "rVrAVX_gFQ1t",
      "metadata": {
        "id": "rVrAVX_gFQ1t"
      },
      "source": [
        "A list is a collection which is ordered and changeable.\n",
        "\n",
        "A dictionary is a collection which is unordered, changeable and indexed."
      ]
    },
    {
      "cell_type": "code",
      "execution_count": 6,
      "id": "58d29398",
      "metadata": {
        "id": "58d29398"
      },
      "outputs": [],
      "source": [
        "# List example:\n",
        "my_list = ['apple', 'banana', 'cherry']\n",
        "\n",
        "# Dictionary example:\n",
        "my_dict = {'name': 'John', 'age': 36}"
      ]
    }
  ],
  "metadata": {
    "colab": {
      "provenance": []
    },
    "kernelspec": {
      "display_name": "Python 3",
      "name": "python3"
    },
    "language_info": {
      "name": "python"
    }
  },
  "nbformat": 4,
  "nbformat_minor": 5
}